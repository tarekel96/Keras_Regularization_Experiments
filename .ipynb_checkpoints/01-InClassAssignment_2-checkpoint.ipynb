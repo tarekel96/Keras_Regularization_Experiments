{
 "cells": [
  {
   "cell_type": "code",
   "execution_count": 1,
   "metadata": {},
   "outputs": [],
   "source": [
    "# Original Dataset: https://www.cs.toronto.edu/~kriz/cifar.html for more information\n",
    "# Load of necessary libraries\n",
    "import numpy as np\n",
    "import pandas as pd\n",
    "from tensorflow import keras\n",
    "from tensorflow.keras.datasets import cifar10\n",
    "from keras.models import Sequential\n",
    "from keras.layers.core import Dense, Flatten\n",
    "from keras.layers.convolutional import Conv2D\n",
    "from tensorflow.keras.optimizers import Adam\n",
    "from keras.layers.pooling import MaxPooling2D\n",
    "from tensorflow.keras.utils import to_categorical\n",
    "from sklearn.model_selection import train_test_split\n",
    "from sklearn.preprocessing import StandardScaler\n",
    "# to make the example replicable\n",
    "np.random.seed(42)\n",
    "# Load of the dataset\n",
    "(X_train, Y_train), (X_test, Y_test) = cifar10.load_data()"
   ]
  },
  {
   "cell_type": "code",
   "execution_count": 2,
   "metadata": {},
   "outputs": [
    {
     "data": {
      "text/plain": [
       "((50000, 32, 32, 3), (50000, 1))"
      ]
     },
     "execution_count": 2,
     "metadata": {},
     "output_type": "execute_result"
    }
   ],
   "source": [
    "X_train.shape, Y_train.shape"
   ]
  },
  {
   "cell_type": "markdown",
   "metadata": {},
   "source": [
    "### reduce dataset size"
   ]
  },
  {
   "cell_type": "code",
   "execution_count": 3,
   "metadata": {},
   "outputs": [],
   "source": [
    "df = pd.DataFrame(list(zip(X_train, Y_train)), columns =['Image', 'Label']) \n",
    "val = df.sample(frac=(0.02))\n",
    "# X_train = np.array([ i for i in list(val['Image'])])\n",
    "# Y_train = np.array([ [i[0]] for i in list(val['Label'])])\n",
    "X = np.array([ i for i in list(val['Image'])])\n",
    "Y = np.array([ [i[0]] for i in list(val['Label'])])"
   ]
  },
  {
   "cell_type": "code",
   "execution_count": 4,
   "metadata": {},
   "outputs": [
    {
     "data": {
      "text/plain": [
       "((1000, 32, 32, 3), (1000, 1))"
      ]
     },
     "execution_count": 4,
     "metadata": {},
     "output_type": "execute_result"
    }
   ],
   "source": [
    "X.shape, Y.shape# X_train.shape, Y_train.shape"
   ]
  },
  {
   "cell_type": "code",
   "execution_count": 5,
   "metadata": {},
   "outputs": [],
   "source": [
    "X_train, X_test, Y_train, Y_test = train_test_split(X, Y, test_size=0.2)"
   ]
  },
  {
   "cell_type": "code",
   "execution_count": 6,
   "metadata": {},
   "outputs": [],
   "source": [
    "# z = StandardScaler()\n",
    "# # Normalize the train and test data sets\n",
    "# # for train, transform the data and then fit it to the model\n",
    "# X_train = z.fit_transform(X_train)\n",
    "# # for test, transform the data, but do not fit it to the model to prevent bias/overfitting\n",
    "# X_test = z.transform(X_test)"
   ]
  },
  {
   "cell_type": "markdown",
   "metadata": {},
   "source": [
    "## Normalization"
   ]
  },
  {
   "cell_type": "code",
   "execution_count": 7,
   "metadata": {},
   "outputs": [],
   "source": [
    "# Centering the data\n",
    "X_train_mean = np.mean(X_train, axis = 0)\n",
    "X_train_cent = X_train - X_train_mean\n",
    "# Normalization\n",
    "X_train_std = np.std(X_train, axis = 0)\n",
    "X_train_norm = X_train_cent / X_train_std"
   ]
  },
  {
   "cell_type": "markdown",
   "metadata": {},
   "source": [
    "## Train/Test"
   ]
  },
  {
   "cell_type": "code",
   "execution_count": 8,
   "metadata": {},
   "outputs": [],
   "source": [
    "# preparing test set\n",
    "X_test_norm = (X_test - X_train_mean) / X_train_std"
   ]
  },
  {
   "cell_type": "markdown",
   "metadata": {},
   "source": [
    "## Conv Model"
   ]
  },
  {
   "cell_type": "code",
   "execution_count": 17,
   "metadata": {},
   "outputs": [],
   "source": [
    "from keras.layers import BatchNormalization, Activation\n",
    "from keras.regularizers import l1, l2, l1_l2\n",
    "from keras.constraints import max_norm\n",
    "\n",
    "\n",
    "class Convolutional:\n",
    "    \n",
    "    def __init__(self, desc, batch_size=128, shuffle=True, epochs=10, batch_norm=False, \n",
    "                 k_regularizer=None, k_constraint=None, dropout=False, \n",
    "                 dropout_val=0.5, max_pooling=False):\n",
    "        self.batch_size = batch_size\n",
    "        self.shuffle = shuffle\n",
    "        self.epochs = epochs\n",
    "        self.desc = desc\n",
    "        self.scores = []\n",
    "        \n",
    "        if max_pooling and dropout:\n",
    "            print('why')\n",
    "            return None\n",
    "        \n",
    "        # Inizializting the model\n",
    "        self.model = Sequential()\n",
    "        # Defining a convolutional layer\n",
    "        self.model.add(Conv2D(128, kernel_size=(3, 3), input_shape=(32, 32, 3)))\n",
    "        if batch_norm: self.model.add(BatchNormalization())\n",
    "        self.model.add(Activation('relu'))\n",
    "        if max_pooling: self.model.add(MaxPooling2D(\n",
    "            pool_size=(2, 2), strides=strides, padding=\"valid\", data_format=None\n",
    "        ))\n",
    "        if dropout: self.model.add(Dropout(dropout_val/2))\n",
    "\n",
    "        # Defining a second convolutional layer\n",
    "        self.model.add(Conv2D(128, kernel_size=(3, 3), activation='relu'))\n",
    "        if batch_norm: self.model.add(BatchNormalization())\n",
    "        self.model.add(Activation('relu'))\n",
    "        if max_pooling: self.model.add(MaxPooling2D(\n",
    "            pool_size=(2, 2), strides=strides, padding=\"valid\", data_format=None,\n",
    "        ))\n",
    "        if dropout: self.model.add(Dropout(dropout_val/2))\n",
    "\n",
    "        # Defining a third convolutional layer\n",
    "        self.model.add(Conv2D(128, kernel_size=(3, 3), activation='relu'))\n",
    "        if batch_norm: self.model.add(BatchNormalization())\n",
    "        self.model.add(Activation('relu'))\n",
    "        if max_pooling: self.model.add(MaxPooling2D(\n",
    "            pool_size=(2, 2), strides=strides, padding=\"valid\", data_format=None,\n",
    "        ))\n",
    "        if dropout: self.model.add(Dropout(dropout_val/2))\n",
    "\n",
    "        # We include our classifier\n",
    "        self.model.add(Flatten())\n",
    "        self.model.add(Dense(1024, activation='relu', kernel_regularizer=k_regularizer, kernel_constraint=k_constraint))\n",
    "        if dropout: self.model.add(Dropout(dropout_val))\n",
    "        self.model.add(Dense(10, activation='softmax'))\n",
    "        \n",
    "        # Compiling the model\n",
    "        self.model.compile(loss='categorical_crossentropy',\n",
    "                      optimizer=Adam(learning_rate=0.0001, decay=1e-6),\n",
    "                      metrics=['accuracy'])\n",
    "        \n",
    "    def train(self, X_train, Y_train, X_test, Y_test):\n",
    "        # Training of the model\n",
    "        self.model.fit(X_train, to_categorical(Y_train),\n",
    "                  batch_size=self.batch_size,\n",
    "                  shuffle=self.shuffle,\n",
    "                  epochs=self.epochs,\n",
    "                  validation_data=(X_test, to_categorical(Y_test)))\n",
    "        \n",
    "        # Evaluation of the model\n",
    "        self.scores = self.model.evaluate(X_test, to_categorical(Y_test))\n",
    "        return self.scores\n",
    "    \n",
    "    def __str__(self):\n",
    "        return self.desc+\":\\n\\t Loss: \"+ str(self.scores[0]) +\"\\t Accuracy: \"+ str(self.scores[1])\n",
    "     "
   ]
  },
  {
   "cell_type": "markdown",
   "metadata": {},
   "source": [
    "## Instantiate models & fit"
   ]
  },
  {
   "cell_type": "code",
   "execution_count": 10,
   "metadata": {},
   "outputs": [],
   "source": [
    "# from keras.layers import BatchNormalization, Activation\n",
    "# from keras.regularizers import l1, l2, l1_l2\n",
    "# from keras.constraints import max_norm\n",
    "# from keras.layers import Dropout\n",
    "\n",
    "\n",
    "# models = []\n",
    "\n",
    "# batch_size = 512\n",
    "# epochs = 10\n",
    "# strides=1\n",
    "\n",
    "# ## Batch Norm\n",
    "# models.append(Convolutional(desc=\"Batch_Norm\", batch_size=batch_size, epochs=epochs, \\\n",
    "#                              batch_norm=True))\n",
    "\n",
    "# ## Regularization\n",
    "# models.append(Convolutional(desc=\"Regularization_l1_10^-2\", \\\n",
    "#                             batch_size=batch_size, epochs=epochs, \\\n",
    "#                             k_regularizer=l1(10**-2)))\n",
    "# models.append(Convolutional(desc=\"Regularization_l2_10^-2\", \\\n",
    "#                             batch_size=batch_size, epochs=epochs, \\\n",
    "#                             k_regularizer=l2(10**-2)))\n",
    "# models.append(Convolutional(desc=\"Regularization_elastic_10^-2\", \\\n",
    "#                             batch_size=batch_size, epochs=epochs, \\\n",
    "#                             k_regularizer=l1_l2(10**-2)))\n",
    "    \n",
    "# ## Max Norm & Dropout\n",
    "# models.append(Convolutional(desc=\"Max_Norm\", \\\n",
    "#                             batch_size=batch_size, epochs=epochs, \\\n",
    "#                             k_constraint=max_norm(3. )))\n",
    "\n",
    "# models.append(Convolutional(desc=\"Dropout\", \\\n",
    "#                             batch_size=batch_size, epochs=epochs, \\\n",
    "#                             dropout = True))\n",
    "\n",
    "# models.append(Convolutional(desc=\"Max_Norm_And_Dropout\", \\\n",
    "#                             batch_size=batch_size, epochs=epochs, \\\n",
    "#                             k_constraint=max_norm(3. ), dropout=True))\n",
    "\n",
    "# ## Max Pooling\n",
    "# models.append(Convolutional(desc=\"Max_Pooling\", \\\n",
    "#                             batch_size=batch_size, epochs=epochs, \\\n",
    "#                             max_pooling=True))\n"
   ]
  },
  {
   "cell_type": "markdown",
   "metadata": {},
   "source": [
    "## Fit models & Report scores"
   ]
  },
  {
   "cell_type": "code",
   "execution_count": 11,
   "metadata": {},
   "outputs": [],
   "source": [
    "# for m in models:\n",
    "#     m.train(X_train_norm, Y_train, X_test_norm, Y_test)\n",
    "#     print(m)"
   ]
  },
  {
   "cell_type": "code",
   "execution_count": 12,
   "metadata": {},
   "outputs": [],
   "source": [
    "from keras.layers import BatchNormalization, Activation\n",
    "from keras.regularizers import l1, l2, l1_l2\n",
    "from keras.constraints import max_norm\n",
    "from keras.layers import Dropout\n",
    "\n",
    "\n",
    "models = []\n",
    "\n",
    "batch_size = 256\n",
    "epochs = 10\n",
    "strides=1\n",
    "\n",
    "## Batch Norm\n",
    "models.append(Convolutional(desc=\"Batch_Norm\", batch_size=batch_size, epochs=epochs, \\\n",
    "                             batch_norm=True))\n",
    "\n",
    "## Regularization\n",
    "models.append(Convolutional(desc=\"Regularization_l1_10^-2\", \\\n",
    "                            batch_size=batch_size, epochs=epochs, \\\n",
    "                            k_regularizer=l1(10**-2)))\n",
    "models.append(Convolutional(desc=\"Regularization_l2_10^-2\", \\\n",
    "                            batch_size=batch_size, epochs=epochs, \\\n",
    "                            k_regularizer=l2(10**-2)))\n",
    "models.append(Convolutional(desc=\"Regularization_elastic_10^-2\", \\\n",
    "                            batch_size=batch_size, epochs=epochs, \\\n",
    "                            k_regularizer=l1_l2(10**-2)))\n",
    "    \n",
    "## Max Norm & Dropout\n",
    "models.append(Convolutional(desc=\"Max_Norm\", \\\n",
    "                            batch_size=batch_size, epochs=epochs, \\\n",
    "                            k_constraint=max_norm(3. )))\n",
    "\n",
    "models.append(Convolutional(desc=\"Dropout\", \\\n",
    "                            batch_size=batch_size, epochs=epochs, \\\n",
    "                            dropout = True))\n",
    "\n",
    "models.append(Convolutional(desc=\"Max_Norm_And_Dropout\", \\\n",
    "                            batch_size=batch_size, epochs=epochs, \\\n",
    "                            k_constraint=max_norm(3. ), dropout=True))\n",
    "\n",
    "## Max Pooling\n",
    "models.append(Convolutional(desc=\"Max_Pooling\", \\\n",
    "                            batch_size=batch_size, epochs=epochs, \\\n",
    "                            max_pooling=True))"
   ]
  },
  {
   "cell_type": "code",
   "execution_count": 21,
   "metadata": {},
   "outputs": [],
   "source": [
    "from keras.layers import BatchNormalization, Activation\n",
    "from keras.regularizers import l1, l2, l1_l2\n",
    "from keras.constraints import max_norm\n",
    "from keras.layers import Dropout\n",
    "\n",
    "\n",
    "models2 = []\n",
    "\n",
    "batch_size = 256\n",
    "epochs = 10\n",
    "strides=1\n",
    "\n",
    "## Batch Norm\n",
    "models2.append(Convolutional(desc=\"Batch_Norm\", batch_size=batch_size, epochs=epochs, \\\n",
    "                             batch_norm=True))\n",
    "\n",
    "## Regularization\n",
    "models2.append(Convolutional(desc=\"Regularization_l1_10^-2\", \\\n",
    "                            batch_size=batch_size, epochs=epochs, batch_norm=True, \\\n",
    "                            k_regularizer=l1(10**-2)))\n",
    "models2.append(Convolutional(desc=\"Regularization_l2_10^-2\", \\\n",
    "                            batch_size=batch_size, epochs=epochs, batch_norm=True, \\\n",
    "                            k_regularizer=l2(10**-2)))\n",
    "models2.append(Convolutional(desc=\"Regularization_elastic_10^-2\", \\\n",
    "                            batch_size=batch_size, epochs=epochs, batch_norm=True, \\\n",
    "                            k_regularizer=l1_l2(10**-2)))\n",
    "    \n",
    "## Max Norm & Dropout\n",
    "models2.append(Convolutional(desc=\"Max_Norm\", \\\n",
    "                            batch_size=batch_size, epochs=epochs, batch_norm=True, \\\n",
    "                            k_constraint=max_norm(3. )))\n",
    "\n",
    "models2.append(Convolutional(desc=\"Dropout\", \\\n",
    "                            batch_size=batch_size, epochs=epochs, batch_norm=True, \\\n",
    "                            dropout = True))\n",
    "\n",
    "models2.append(Convolutional(desc=\"Max_Norm_And_Dropout\", \\\n",
    "                            batch_size=batch_size, epochs=epochs, batch_norm=True, \\\n",
    "                            k_constraint=max_norm(3. ), dropout=True))\n",
    "\n",
    "## Max Pooling\n",
    "models2.append(Convolutional(desc=\"Max_Pooling\", \\\n",
    "                            batch_size=batch_size, epochs=epochs, batch_norm=True, \\\n",
    "                            max_pooling=True))"
   ]
  },
  {
   "cell_type": "code",
   "execution_count": null,
   "metadata": {},
   "outputs": [],
   "source": [
    "for m in models2:\n",
    "    m.train(X_train_norm, Y_train, X_test_norm, Y_test)\n",
    "    print(m)"
   ]
  },
  {
   "cell_type": "code",
   "execution_count": 13,
   "metadata": {
    "scrolled": false
   },
   "outputs": [
    {
     "name": "stdout",
     "output_type": "stream",
     "text": [
      "Epoch 1/10\n",
      "4/4 [==============================] - 11s 2s/step - loss: 11.4644 - accuracy: 0.1363 - val_loss: 2.7169 - val_accuracy: 0.1000\n",
      "Epoch 2/10\n",
      "4/4 [==============================] - 10s 2s/step - loss: 8.9772 - accuracy: 0.2725 - val_loss: 2.3022 - val_accuracy: 0.1400\n",
      "Epoch 3/10\n",
      "4/4 [==============================] - 10s 2s/step - loss: 2.7966 - accuracy: 0.4563 - val_loss: 2.2733 - val_accuracy: 0.1700\n",
      "Epoch 4/10\n",
      "4/4 [==============================] - 10s 2s/step - loss: 1.3378 - accuracy: 0.5437 - val_loss: 2.2672 - val_accuracy: 0.2600\n",
      "Epoch 5/10\n",
      "4/4 [==============================] - 10s 2s/step - loss: 0.9315 - accuracy: 0.7450 - val_loss: 2.2620 - val_accuracy: 0.2750\n",
      "Epoch 6/10\n",
      "4/4 [==============================] - 10s 2s/step - loss: 0.5841 - accuracy: 0.8737 - val_loss: 2.2645 - val_accuracy: 0.2600\n",
      "Epoch 7/10\n",
      "4/4 [==============================] - 10s 2s/step - loss: 0.3757 - accuracy: 0.9438 - val_loss: 2.2672 - val_accuracy: 0.2650\n",
      "Epoch 8/10\n",
      "4/4 [==============================] - 10s 2s/step - loss: 0.2027 - accuracy: 0.9837 - val_loss: 2.2661 - val_accuracy: 0.2950\n",
      "Epoch 9/10\n",
      "4/4 [==============================] - 10s 2s/step - loss: 0.1170 - accuracy: 0.9937 - val_loss: 2.2676 - val_accuracy: 0.2550\n",
      "Epoch 10/10\n",
      "4/4 [==============================] - 10s 2s/step - loss: 0.0684 - accuracy: 0.9987 - val_loss: 2.2706 - val_accuracy: 0.2550\n",
      "7/7 [==============================] - 1s 94ms/step - loss: 2.2706 - accuracy: 0.2550\n",
      "Batch_Norm:\t Loss: 2.2706074714660645\t Accuracy: 0.2549999952316284\n",
      "Epoch 1/10\n",
      "4/4 [==============================] - 11s 2s/step - loss: 3575.8843 - accuracy: 0.1063 - val_loss: 3326.6790 - val_accuracy: 0.1250\n",
      "Epoch 2/10\n",
      "4/4 [==============================] - 10s 2s/step - loss: 3237.7178 - accuracy: 0.1312 - val_loss: 3002.3306 - val_accuracy: 0.1550\n",
      "Epoch 3/10\n",
      "4/4 [==============================] - 10s 2s/step - loss: 2918.4204 - accuracy: 0.1937 - val_loss: 2696.1873 - val_accuracy: 0.2100\n",
      "Epoch 4/10\n",
      "4/4 [==============================] - 10s 2s/step - loss: 2617.0103 - accuracy: 0.2575 - val_loss: 2407.6602 - val_accuracy: 0.2450\n",
      "Epoch 5/10\n",
      "4/4 [==============================] - 10s 2s/step - loss: 2332.9585 - accuracy: 0.2663 - val_loss: 2135.7625 - val_accuracy: 0.1750\n",
      "Epoch 6/10\n",
      "4/4 [==============================] - 10s 2s/step - loss: 2065.6348 - accuracy: 0.2650 - val_loss: 1880.5245 - val_accuracy: 0.2450\n",
      "Epoch 7/10\n",
      "4/4 [==============================] - 9s 2s/step - loss: 1814.8140 - accuracy: 0.3113 - val_loss: 1641.8359 - val_accuracy: 0.2800\n",
      "Epoch 8/10\n",
      "4/4 [==============================] - 9s 2s/step - loss: 1580.6006 - accuracy: 0.2575 - val_loss: 1419.6154 - val_accuracy: 0.2850\n",
      "Epoch 9/10\n",
      "4/4 [==============================] - 10s 2s/step - loss: 1362.8159 - accuracy: 0.2925 - val_loss: 1214.0481 - val_accuracy: 0.2400\n",
      "Epoch 10/10\n",
      "4/4 [==============================] - 11s 3s/step - loss: 1161.6700 - accuracy: 0.3025 - val_loss: 1024.9364 - val_accuracy: 0.2850\n",
      "7/7 [==============================] - 1s 178ms/step - loss: 1024.9365 - accuracy: 0.2850\n",
      "Regularization_l1_10^-2:\t Loss: 1024.9365234375\t Accuracy: 0.2849999964237213\n",
      "Epoch 1/10\n",
      "4/4 [==============================] - 14s 3s/step - loss: 22.2068 - accuracy: 0.1275 - val_loss: 20.6717 - val_accuracy: 0.1400\n",
      "Epoch 2/10\n",
      "4/4 [==============================] - 11s 3s/step - loss: 20.1270 - accuracy: 0.1675 - val_loss: 18.7379 - val_accuracy: 0.3100\n",
      "Epoch 3/10\n",
      "4/4 [==============================] - 10s 3s/step - loss: 18.1678 - accuracy: 0.3700 - val_loss: 16.9399 - val_accuracy: 0.3400\n",
      "Epoch 4/10\n",
      "4/4 [==============================] - 11s 3s/step - loss: 16.3529 - accuracy: 0.4100 - val_loss: 15.2897 - val_accuracy: 0.3700\n",
      "Epoch 5/10\n",
      "4/4 [==============================] - 10s 2s/step - loss: 14.6795 - accuracy: 0.4550 - val_loss: 13.8434 - val_accuracy: 0.3400\n",
      "Epoch 6/10\n",
      "4/4 [==============================] - 10s 2s/step - loss: 13.1874 - accuracy: 0.4825 - val_loss: 12.5444 - val_accuracy: 0.3850\n",
      "Epoch 7/10\n",
      "4/4 [==============================] - 10s 2s/step - loss: 11.8313 - accuracy: 0.5288 - val_loss: 11.4346 - val_accuracy: 0.3750\n",
      "Epoch 8/10\n",
      "4/4 [==============================] - 11s 3s/step - loss: 10.6184 - accuracy: 0.6012 - val_loss: 10.6239 - val_accuracy: 0.3600\n",
      "Epoch 9/10\n",
      "4/4 [==============================] - 12s 3s/step - loss: 9.6549 - accuracy: 0.6175 - val_loss: 9.7384 - val_accuracy: 0.3450\n",
      "Epoch 10/10\n",
      "4/4 [==============================] - 11s 3s/step - loss: 8.7369 - accuracy: 0.6438 - val_loss: 9.1179 - val_accuracy: 0.3500\n",
      "7/7 [==============================] - 2s 293ms/step - loss: 9.1179 - accuracy: 0.3500\n",
      "Regularization_l2_10^-2:\t Loss: 9.117854118347168\t Accuracy: 0.3499999940395355\n",
      "Epoch 1/10\n",
      "4/4 [==============================] - 14s 3s/step - loss: 3595.4963 - accuracy: 0.0850 - val_loss: 3344.2559 - val_accuracy: 0.1250\n",
      "Epoch 2/10\n",
      "4/4 [==============================] - 11s 2s/step - loss: 3254.5732 - accuracy: 0.1863 - val_loss: 3017.3735 - val_accuracy: 0.1550\n",
      "Epoch 3/10\n",
      "4/4 [==============================] - 10s 2s/step - loss: 2932.8232 - accuracy: 0.1863 - val_loss: 2708.9858 - val_accuracy: 0.1650\n",
      "Epoch 4/10\n",
      "4/4 [==============================] - 11s 3s/step - loss: 2629.2419 - accuracy: 0.1863 - val_loss: 2418.4692 - val_accuracy: 0.1850\n",
      "Epoch 5/10\n",
      "4/4 [==============================] - 11s 3s/step - loss: 2343.2764 - accuracy: 0.2175 - val_loss: 2144.8682 - val_accuracy: 0.2050\n",
      "Epoch 6/10\n",
      "4/4 [==============================] - 11s 3s/step - loss: 2074.3367 - accuracy: 0.2400 - val_loss: 1888.1960 - val_accuracy: 0.1950\n",
      "Epoch 7/10\n",
      "4/4 [==============================] - 11s 3s/step - loss: 1822.1479 - accuracy: 0.2550 - val_loss: 1648.2820 - val_accuracy: 0.2700\n",
      "Epoch 8/10\n",
      "4/4 [==============================] - 11s 3s/step - loss: 1586.7367 - accuracy: 0.3162 - val_loss: 1425.0615 - val_accuracy: 0.2050\n",
      "Epoch 9/10\n",
      "4/4 [==============================] - 11s 3s/step - loss: 1368.0040 - accuracy: 0.2713 - val_loss: 1218.6525 - val_accuracy: 0.2450\n",
      "Epoch 10/10\n",
      "4/4 [==============================] - 11s 3s/step - loss: 1166.0817 - accuracy: 0.3025 - val_loss: 1028.9192 - val_accuracy: 0.2350\n",
      "7/7 [==============================] - 2s 224ms/step - loss: 1028.9192 - accuracy: 0.2350\n",
      "Regularization_elastic_10^-2:\t Loss: 1028.919189453125\t Accuracy: 0.23499999940395355\n",
      "Epoch 1/10\n",
      "4/4 [==============================] - 12s 2s/step - loss: 2.3677 - accuracy: 0.1088 - val_loss: 2.3786 - val_accuracy: 0.1750\n",
      "Epoch 2/10\n",
      "4/4 [==============================] - 10s 2s/step - loss: 2.1825 - accuracy: 0.2763 - val_loss: 2.0171 - val_accuracy: 0.2900\n",
      "Epoch 3/10\n",
      "4/4 [==============================] - 11s 2s/step - loss: 1.8136 - accuracy: 0.3675 - val_loss: 1.9721 - val_accuracy: 0.2750\n",
      "Epoch 4/10\n",
      "4/4 [==============================] - 10s 2s/step - loss: 1.6500 - accuracy: 0.4275 - val_loss: 1.8877 - val_accuracy: 0.3550\n",
      "Epoch 5/10\n",
      "4/4 [==============================] - 11s 3s/step - loss: 1.4568 - accuracy: 0.5375 - val_loss: 1.9008 - val_accuracy: 0.3800\n",
      "Epoch 6/10\n",
      "4/4 [==============================] - 10s 2s/step - loss: 1.2855 - accuracy: 0.6050 - val_loss: 1.9153 - val_accuracy: 0.3450\n",
      "Epoch 7/10\n",
      "4/4 [==============================] - 10s 2s/step - loss: 1.1226 - accuracy: 0.6600 - val_loss: 1.8535 - val_accuracy: 0.3950\n",
      "Epoch 8/10\n",
      "4/4 [==============================] - 10s 2s/step - loss: 0.9806 - accuracy: 0.7000 - val_loss: 1.8589 - val_accuracy: 0.3800\n",
      "Epoch 9/10\n",
      "4/4 [==============================] - 10s 2s/step - loss: 0.8056 - accuracy: 0.7975 - val_loss: 1.9008 - val_accuracy: 0.3750\n",
      "Epoch 10/10\n",
      "4/4 [==============================] - 10s 2s/step - loss: 0.6955 - accuracy: 0.8050 - val_loss: 1.9562 - val_accuracy: 0.4350\n",
      "7/7 [==============================] - 1s 101ms/step - loss: 1.9562 - accuracy: 0.4350\n",
      "Max_Norm:\t Loss: 1.956183671951294\t Accuracy: 0.4350000023841858\n",
      "Epoch 1/10\n",
      "4/4 [==============================] - 16s 3s/step - loss: 2.4178 - accuracy: 0.1175 - val_loss: 2.2539 - val_accuracy: 0.1400\n",
      "Epoch 2/10\n",
      "4/4 [==============================] - 11s 2s/step - loss: 2.2542 - accuracy: 0.1637 - val_loss: 2.1011 - val_accuracy: 0.2950\n",
      "Epoch 3/10\n"
     ]
    },
    {
     "name": "stdout",
     "output_type": "stream",
     "text": [
      "4/4 [==============================] - 11s 3s/step - loss: 2.0731 - accuracy: 0.2412 - val_loss: 2.0320 - val_accuracy: 0.3400\n",
      "Epoch 4/10\n",
      "4/4 [==============================] - 12s 3s/step - loss: 1.9622 - accuracy: 0.3162 - val_loss: 2.0025 - val_accuracy: 0.2850\n",
      "Epoch 5/10\n",
      "4/4 [==============================] - 12s 3s/step - loss: 1.8901 - accuracy: 0.3425 - val_loss: 1.9360 - val_accuracy: 0.3050\n",
      "Epoch 6/10\n",
      "4/4 [==============================] - 11s 2s/step - loss: 1.7858 - accuracy: 0.3938 - val_loss: 1.9064 - val_accuracy: 0.3500\n",
      "Epoch 7/10\n",
      "4/4 [==============================] - 10s 2s/step - loss: 1.7464 - accuracy: 0.3887 - val_loss: 1.9157 - val_accuracy: 0.3450\n",
      "Epoch 8/10\n",
      "4/4 [==============================] - 10s 2s/step - loss: 1.7290 - accuracy: 0.3963 - val_loss: 1.8686 - val_accuracy: 0.3750\n",
      "Epoch 9/10\n",
      "4/4 [==============================] - 11s 3s/step - loss: 1.6361 - accuracy: 0.4313 - val_loss: 1.8565 - val_accuracy: 0.3750\n",
      "Epoch 10/10\n",
      "4/4 [==============================] - 11s 2s/step - loss: 1.5526 - accuracy: 0.4712 - val_loss: 1.8582 - val_accuracy: 0.3450\n",
      "7/7 [==============================] - 1s 112ms/step - loss: 1.8582 - accuracy: 0.3450\n",
      "Dropout:\t Loss: 1.8582043647766113\t Accuracy: 0.3449999988079071\n",
      "Epoch 1/10\n",
      "4/4 [==============================] - 14s 3s/step - loss: 2.3964 - accuracy: 0.1400 - val_loss: 2.2215 - val_accuracy: 0.1800\n",
      "Epoch 2/10\n",
      "4/4 [==============================] - 11s 3s/step - loss: 2.1805 - accuracy: 0.2200 - val_loss: 2.1033 - val_accuracy: 0.2500\n",
      "Epoch 3/10\n",
      "4/4 [==============================] - 11s 3s/step - loss: 2.0586 - accuracy: 0.2488 - val_loss: 2.0626 - val_accuracy: 0.3300\n",
      "Epoch 4/10\n",
      "4/4 [==============================] - 11s 3s/step - loss: 1.9728 - accuracy: 0.3025 - val_loss: 2.0393 - val_accuracy: 0.2900\n",
      "Epoch 5/10\n",
      "4/4 [==============================] - 11s 2s/step - loss: 1.9307 - accuracy: 0.3050 - val_loss: 2.0158 - val_accuracy: 0.2850\n",
      "Epoch 6/10\n",
      "4/4 [==============================] - 11s 3s/step - loss: 1.8512 - accuracy: 0.3450 - val_loss: 1.9714 - val_accuracy: 0.3200\n",
      "Epoch 7/10\n",
      "4/4 [==============================] - 11s 2s/step - loss: 1.7542 - accuracy: 0.4038 - val_loss: 1.9324 - val_accuracy: 0.3350\n",
      "Epoch 8/10\n",
      "4/4 [==============================] - 12s 3s/step - loss: 1.7047 - accuracy: 0.4125 - val_loss: 1.9058 - val_accuracy: 0.3350\n",
      "Epoch 9/10\n",
      "4/4 [==============================] - 12s 3s/step - loss: 1.6183 - accuracy: 0.4475 - val_loss: 1.9068 - val_accuracy: 0.3450\n",
      "Epoch 10/10\n",
      "4/4 [==============================] - 11s 3s/step - loss: 1.5990 - accuracy: 0.4412 - val_loss: 1.8753 - val_accuracy: 0.3400\n",
      "7/7 [==============================] - 1s 105ms/step - loss: 1.8753 - accuracy: 0.3400\n",
      "Max_Norm_And_Dropout:\t Loss: 1.8752881288528442\t Accuracy: 0.3400000035762787\n",
      "Epoch 1/10\n",
      "4/4 [==============================] - 11s 2s/step - loss: 2.5192 - accuracy: 0.1262 - val_loss: 2.3551 - val_accuracy: 0.1800\n",
      "Epoch 2/10\n",
      "4/4 [==============================] - 9s 2s/step - loss: 2.2247 - accuracy: 0.2250 - val_loss: 2.1503 - val_accuracy: 0.2950\n",
      "Epoch 3/10\n",
      "4/4 [==============================] - 9s 2s/step - loss: 2.0038 - accuracy: 0.3100 - val_loss: 1.9728 - val_accuracy: 0.3250\n",
      "Epoch 4/10\n",
      "4/4 [==============================] - 9s 2s/step - loss: 1.8112 - accuracy: 0.3625 - val_loss: 1.8874 - val_accuracy: 0.3150\n",
      "Epoch 5/10\n",
      "4/4 [==============================] - 9s 2s/step - loss: 1.6783 - accuracy: 0.4100 - val_loss: 1.8440 - val_accuracy: 0.3700\n",
      "Epoch 6/10\n",
      "4/4 [==============================] - 9s 2s/step - loss: 1.5320 - accuracy: 0.4900 - val_loss: 1.8049 - val_accuracy: 0.3450\n",
      "Epoch 7/10\n",
      "4/4 [==============================] - 9s 2s/step - loss: 1.4046 - accuracy: 0.5075 - val_loss: 1.7722 - val_accuracy: 0.3650\n",
      "Epoch 8/10\n",
      "4/4 [==============================] - 10s 2s/step - loss: 1.2985 - accuracy: 0.5638 - val_loss: 1.7331 - val_accuracy: 0.4100\n",
      "Epoch 9/10\n",
      "4/4 [==============================] - 11s 2s/step - loss: 1.1712 - accuracy: 0.6100 - val_loss: 1.7548 - val_accuracy: 0.4050\n",
      "Epoch 10/10\n",
      "4/4 [==============================] - 10s 2s/step - loss: 1.0632 - accuracy: 0.6800 - val_loss: 1.7532 - val_accuracy: 0.4050\n",
      "7/7 [==============================] - 1s 86ms/step - loss: 1.7532 - accuracy: 0.4050\n",
      "Max_Pooling:\t Loss: 1.7532321214675903\t Accuracy: 0.4050000011920929\n"
     ]
    }
   ],
   "source": [
    "for m in models:\n",
    "    m.train(X_train_norm, Y_train, X_test_norm, Y_test)\n",
    "    print(m)"
   ]
  },
  {
   "cell_type": "code",
   "execution_count": null,
   "metadata": {},
   "outputs": [],
   "source": []
  },
  {
   "cell_type": "code",
   "execution_count": 20,
   "metadata": {},
   "outputs": [
    {
     "name": "stdout",
     "output_type": "stream",
     "text": [
      "Regularization_elastic_10^-2:\t Loss: 1028.919189453125\t Accuracy: 0.23499999940395355\n",
      "Batch_Norm:\t Loss: 2.2706074714660645\t Accuracy: 0.2549999952316284\n",
      "Regularization_l1_10^-2:\t Loss: 1024.9365234375\t Accuracy: 0.2849999964237213\n",
      "Max_Norm_And_Dropout:\t Loss: 1.8752881288528442\t Accuracy: 0.3400000035762787\n",
      "Dropout:\t Loss: 1.8582043647766113\t Accuracy: 0.3449999988079071\n",
      "Regularization_l2_10^-2:\t Loss: 9.117854118347168\t Accuracy: 0.3499999940395355\n",
      "Max_Pooling:\t Loss: 1.7532321214675903\t Accuracy: 0.4050000011920929\n",
      "Max_Norm:\t Loss: 1.956183671951294\t Accuracy: 0.4350000023841858\n"
     ]
    }
   ],
   "source": [
    "for m in sorted(models, key=lambda m: m.scores[1]):\n",
    "    print(m)"
   ]
  },
  {
   "cell_type": "code",
   "execution_count": null,
   "metadata": {},
   "outputs": [],
   "source": []
  }
 ],
 "metadata": {
  "kernelspec": {
   "display_name": "Python 3",
   "language": "python",
   "name": "python3"
  },
  "language_info": {
   "codemirror_mode": {
    "name": "ipython",
    "version": 3
   },
   "file_extension": ".py",
   "mimetype": "text/x-python",
   "name": "python",
   "nbconvert_exporter": "python",
   "pygments_lexer": "ipython3",
   "version": "3.8.8"
  }
 },
 "nbformat": 4,
 "nbformat_minor": 4
}
